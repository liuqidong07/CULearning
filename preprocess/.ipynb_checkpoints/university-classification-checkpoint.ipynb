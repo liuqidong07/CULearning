{
 "cells": [
  {
   "cell_type": "code",
   "execution_count": 2,
   "metadata": {
    "_cell_guid": "e161f009-1dd2-4968-a82f-89ecdcc0ad64",
    "_uuid": "6baf1331-2eee-4492-bd50-3e8cc6174b68"
   },
   "outputs": [],
   "source": [
    "import numpy as np \n",
    "import pandas as pd \n",
    "from collections import defaultdict\n",
    "from sklearn.model_selection import train_test_split\n",
    "from lightgbm import LGBMClassifier\n",
    "from xgboost import XGBClassifier\n",
    "from sklearn import neighbors, svm,metrics\n",
    "from sklearn.ensemble import RandomForestClassifier\n"
   ]
  },
  {
   "cell_type": "markdown",
   "metadata": {},
   "source": [
    "## Data Preprocessing\n",
    "\n",
    "- Removing Unwanted Columns (Features)\n",
    "- Cleaning the categorical variables\n",
    "- GPA scale conversion\n",
    "- GRE scores conversion from old to new"
   ]
  },
  {
   "cell_type": "code",
   "execution_count": 4,
   "metadata": {},
   "outputs": [],
   "source": [
    "data = pd.read_csv('../data/original_data.csv') #original data file\n",
    "score_table= pd.read_csv('../data/score.csv') # GRE score conversion table\n",
    "\n",
    "#Dropping unwanted columns\n",
    "data = data.drop(['gmatA','gmatQ','gmatV','specialization','department','program','toeflEssay','userProfileLink','topperCgpa','termAndYear','userName','toeflScore','industryExp','internExp','confPubs','journalPubs','researchExp'],1)\n",
    "# Dropping missing values\n",
    "data = data.dropna()\n",
    "\n",
    "#Only admitted data is required, dropping not admitted\n",
    "data = data[data[\"admit\"] > 0]\n",
    "data = data.drop(\"admit\", 1)\n",
    "\n",
    "# Dropping universites whose instances are lesser in number\n",
    "university_list = list(set(data[\"univName\"].tolist()))\n",
    "for i in range(len(university_list)):\n",
    "    if len(data[data[\"univName\"] == university_list[i]]) < 100:\n",
    "        data = data[data[\"univName\"] != university_list[i]]\n"
   ]
  },
  {
   "cell_type": "code",
   "execution_count": null,
   "metadata": {},
   "outputs": [],
   "source": [
    "from pandas_profiling import Pro"
   ]
  },
  {
   "cell_type": "code",
   "execution_count": 3,
   "metadata": {},
   "outputs": [],
   "source": [
    "def normalize_gpa(data, cgpa, totalcgpa):\n",
    "    '''\n",
    "    Utility function to normalize CGPA\n",
    "    '''\n",
    "    cgpa = data[cgpa].tolist()\n",
    "    totalcgpa = data[totalcgpa].tolist()\n",
    "    for i in range(len(cgpa)):\n",
    "        if totalcgpa[i] != 0:\n",
    "            cgpa[i] = cgpa[i] / totalcgpa[i]\n",
    "        else:\n",
    "            cgpa[i] = 0\n",
    "    data[\"cgpa\"] = cgpa\n",
    "    return data"
   ]
  },
  {
   "cell_type": "code",
   "execution_count": 4,
   "metadata": {},
   "outputs": [],
   "source": [
    "def feature_extraction_categorical_variable1(data, feature):\n",
    "    '''\n",
    "    Utility function to preprocess categorical features\n",
    "    '''\n",
    "    feature_list = list(data[feature].astype(str))\n",
    "    student_id_for_feature = defaultdict(list)\n",
    "    for i in range(len(feature_list)):\n",
    "        feature_list[i] = str(feature_list[i])\n",
    "        feature_list[i] = feature_list[i].strip()\n",
    "        feature_list[i] = feature_list[i].replace(\"-\", \"\")\n",
    "        feature_list[i] = feature_list[i].replace(\".\", \"\")\n",
    "        feature_list[i] = feature_list[i].partition(\"/\")[0]\n",
    "        feature_list[i] = feature_list[i].partition(\"(\")[0]\n",
    "        feature_list[i] = feature_list[i].replace(\" \", \"\")\n",
    "        feature_list[i] = feature_list[i].lower()\n",
    "    data[feature] = feature_list\n",
    "    return data"
   ]
  },
  {
   "cell_type": "code",
   "execution_count": 5,
   "metadata": {},
   "outputs": [],
   "source": [
    "def scoreConversion(feature):\n",
    "    '''\n",
    "    Utility function: Gre Old Score to New Score\n",
    "    '''\n",
    "    gre_score = list(data[feature])\n",
    "    for i in range(len(gre_score)):\n",
    "        if gre_score[i] > 170:\n",
    "            try:\n",
    "                if feature =='greV':\n",
    "                    gre_score[i]=score_table['newV'][gre_score[i]]\n",
    "                elif feature == 'greQ':\n",
    "                    gre_score[i]=score_table['newQ'][gre_score[i]]\n",
    "            except:\n",
    "                continue\n",
    "    return gre_score"
   ]
  },
  {
   "cell_type": "code",
   "execution_count": 6,
   "metadata": {},
   "outputs": [],
   "source": [
    "# Preprocessing each column\n",
    "\n",
    "data = feature_extraction_categorical_variable1(data, \"ugCollege\")\n",
    "data['ugCollege'] = data['ugCollege'].astype('category')\n",
    "data['ugCollege_code'] = data['ugCollege'].cat.codes\n",
    "\n",
    "data = feature_extraction_categorical_variable1(data, \"major\")\n",
    "data['major'] = data['major'].astype('category')\n",
    "data['major_code'] = data['major'].cat.codes\n",
    "data = data.drop(['major','ugCollege'],1)\n",
    "\n",
    "data = normalize_gpa(data, \"cgpa\", \"cgpaScale\")\n",
    "\n",
    "data['greV'] = data['greV'].astype('int')\n",
    "data['greQ'] = data['greQ'].astype('int')\n",
    "score_table.set_index(['old'],inplace=True)\n",
    "data['greV']=scoreConversion('greV')\n",
    "data['greQ']=scoreConversion('greQ')\n",
    "data = data[data['greV']<=170]\n",
    "data = data[data['greQ']<=170]"
   ]
  },
  {
   "cell_type": "markdown",
   "metadata": {},
   "source": [
    "## Modelling"
   ]
  },
  {
   "cell_type": "code",
   "execution_count": 7,
   "metadata": {},
   "outputs": [],
   "source": [
    "x = data.drop(['univName'], 1)\n",
    "y = data['univName']\n",
    "x_train,x_test,y_train,y_test=train_test_split(x,y,test_size=0.2,random_state=0)\n",
    "\n",
    "\n",
    "# Random Forest Classifier\n",
    "\n",
    "clf=RandomForestClassifier(n_estimators=1000)\n",
    "clf.fit(x_train,y_train)\n",
    "y_pred=clf.predict(x_test)\n",
    "\n",
    "\n",
    "# Support Vector Classifier\n",
    "clf = svm.SVC()\n",
    "clf.fit(x_train,y_train)\n",
    "y_pred=clf.predict(x_test)\n",
    "\n",
    "\n",
    "# K Nearest Neighbours\n",
    "clf = neighbors.KNeighborsClassifier(300, weights='uniform')\n",
    "clf.fit(x_train,y_train)\n",
    "y_pred=clf.predict(x_test)\n",
    "\n",
    "\n",
    "# XGBoost Classifier\n",
    "\n",
    "clf = XGBClassifier()\n",
    "clf.fit(x_train,y_train)\n",
    "y_pred=clf.predict(x_test)\n",
    "\n",
    "\n",
    "# Light GBM Classifier\n",
    "clf = LGBMClassifier()\n",
    "clf.fit(x_train,y_train)\n",
    "y_pred=clf.predict(x_test)\n"
   ]
  }
 ],
 "metadata": {
  "kernelspec": {
   "display_name": "Python 3",
   "language": "python",
   "name": "python3"
  },
  "language_info": {
   "codemirror_mode": {
    "name": "ipython",
    "version": 3
   },
   "file_extension": ".py",
   "mimetype": "text/x-python",
   "name": "python",
   "nbconvert_exporter": "python",
   "pygments_lexer": "ipython3",
   "version": "3.6.8"
  }
 },
 "nbformat": 4,
 "nbformat_minor": 4
}
